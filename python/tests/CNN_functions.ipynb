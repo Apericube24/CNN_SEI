{
 "cells": [
  {
   "cell_type": "code",
   "execution_count": 36,
   "metadata": {},
   "outputs": [],
   "source": [
    "import numpy as np\n",
    "from PIL import Image\n",
    "import matplotlib.pyplot as plt"
   ]
  },
  {
   "cell_type": "markdown",
   "metadata": {},
   "source": [
    "# Fonctions"
   ]
  },
  {
   "cell_type": "code",
   "execution_count": 58,
   "metadata": {},
   "outputs": [],
   "source": [
    "def ReLu(x):\n",
    "    # if (x < 0):\n",
    "    #     return 0\n",
    "    # return x\n",
    "    return np.maximum(0,x)\n",
    "\n",
    "def softmax(x):\n",
    "    sum = 0\n",
    "    for i in range(len(x)):\n",
    "        sum += np.exp(x[i])\n",
    "    return np.exp(x) / sum\n",
    "\n",
    "\n",
    "# def Max3x3(M): // a adapter car pour le moment j'utilise  np.max ca fait le taff\n",
    "#     max = M[0][0]\n",
    "#     for i in range(3):\n",
    "#         for j in range(3):\n",
    "#             if M[i][j] > max:\n",
    "#                 max = M[i][j]\n",
    "#     return max\n",
    "\n",
    "def MaxPool(M):\n",
    "    y,x,num_channels = M.shape\n",
    "    i = 0\n",
    "    j = 0\n",
    "    output_height = (y - 3) // 2 + 1\n",
    "    output_width = (x - 3) // 2 + 1\n",
    "    print(f\"output height: {output_height}, output width: {output_width}\")\n",
    "    output = np.zeros((output_height, output_width, num_channels))\n",
    "\n",
    "    for c in range(num_channels):\n",
    "        for i in range(0, output_height):\n",
    "            for j in range(0, output_width):\n",
    "                start_i, start_j = i * 2, j * 2\n",
    "                region = M[start_i:start_i + 3, start_j:start_j + 3, c] #j'ai enlever output x et y car pas besoin et re for pour eviter de remettre à 0\n",
    "                output[i, j, c] = np.max(region)\n",
    "    return output\n",
    "\n",
    "def MaxPool_v2(M):\n",
    "    y,x,num_channels = M.shape\n",
    "    i = 0\n",
    "    j = 0\n",
    "    output_height = y // 2\n",
    "    output_width = x // 2\n",
    "    output = np.zeros((output_height, output_width, num_channels))\n",
    "    for c in range(num_channels):\n",
    "        for i in range(0, output_height):\n",
    "            for j in range(0, output_width):\n",
    "                start_i, start_j = i * 2, j * 2\n",
    "                if (start_i + 3 > y):\n",
    "                    if(start_j + 3 > x):\n",
    "                        region = M[start_i:y, start_j:start_j + 3, c]\n",
    "                    else:\n",
    "                        region = M[start_i:y, start_j:x, c]\n",
    "                elif (start_j + 3 > x):\n",
    "                    region = M[start_i:start_i + 3, start_j:x, c]\n",
    "                else:\n",
    "                    region = M[start_i:start_i + 3, start_j:start_j + 3, c] #j'ai enlever output x et y car pas besoin et re for pour eviter de remettre à 0\n",
    "                output[i, j, c] = np.max(region)\n",
    "    return output\n",
    "\n",
    "def convolution(image, Ks, biais):\n",
    "    image_height, image_width, image_channels = image.shape\n",
    "    K_height, K_width, _, num_filters,= Ks.shape\n",
    "    output_height = image_height\n",
    "    output_width = image_width\n",
    "    output = np.zeros((output_height, output_width, num_filters))\n",
    "    padded_image = np.pad(image, ((2, 2), (2, 2), (0, 0)), mode='constant') #j'ai vu qu'il fallait faire du padding pour conserver les dimensions de notre frame 3D \n",
    "   \n",
    "    for f in range(num_filters):\n",
    "        conv_sum = np.zeros((output_height, output_width))\n",
    "        for c in range(image_channels):  \n",
    "            for i in range(output_height):\n",
    "                for j in range(output_width):\n",
    "                    region = padded_image[i:i+K_height, j:j+K_width, c]\n",
    "                    conv_sum[i, j] += np.sum(region * Ks[:, :, c, f])\n",
    "        output[:, :, f] = ReLu(conv_sum + biais[f])\n",
    "   \n",
    "    return output\n",
    "\n",
    "def c_reshape(M):\n",
    "    height, width, channels = M.shape\n",
    "    output = M\n",
    "    return output.reshape(height*width*channels) # On garde comme ça pour l'instant mais à changer pour le matériel\n",
    "\n",
    "def FCP(M, weights, bias): # Fully Connected Perceptron\n",
    "    '''\n",
    "    M : (180,)\n",
    "    weights : (180, 10)\n",
    "    bias : (10,)\n",
    "    output : (10,)\n",
    "    '''\n",
    "    M = M.T\n",
    "    output = softmax(M.dot(weights) + bias)\n",
    "    return output\n",
    "\n",
    "def normalize(M):\n",
    "    min_val = np.min(M)\n",
    "    max_val = np.max(M)\n",
    "    \n",
    "    M_normalized = (M - min_val) / (max_val - min_val)\n",
    "    \n",
    "    return M_normalized\n",
    "\n",
    "def normalize_image(I):\n",
    "    N = I.size\n",
    "    mu = np.mean(I)\n",
    "    sigma = np.std(I)\n",
    "\n",
    "    normalized = (I - mu) / max(sigma, 1 / np.sqrt(N))\n",
    "\n",
    "    return normalized\n"
   ]
  },
  {
   "cell_type": "markdown",
   "metadata": {},
   "source": [
    "# IMAGES"
   ]
  },
  {
   "cell_type": "code",
   "execution_count": 80,
   "metadata": {},
   "outputs": [
    {
     "name": "stdout",
     "output_type": "stream",
     "text": [
      "(24, 24, 3)\n"
     ]
    },
    {
     "data": {
      "image/png": "[encoded data removed]",
      "text/plain": [
       "<Figure size 640x480 with 1 Axes>"
      ]
     },
     "metadata": {},
     "output_type": "display_data"
    }
   ],
   "source": [
    "def load_cifar10_batch(file_path):\n",
    "    with open(file_path, 'rb') as file:\n",
    "        # Each image is 3073 bytes (1 label + 3072 pixel values)\n",
    "        data = np.frombuffer(file.read(), dtype=np.uint8)\n",
    "        \n",
    "    # Reshape to 10000 rows of 3073 bytes\n",
    "    data = data.reshape(-1, 3073)\n",
    "    \n",
    "    # First column is labels, rest are pixel values\n",
    "    labels = data[:, 0]\n",
    "    images = data[:, 1:]\n",
    "    \n",
    "    # Reshape image data: 3072 pixels -> 3 channels (32x32)\n",
    "    images = images.reshape(-1, 3, 32, 32).transpose(0, 2, 3, 1)  # Shape (10000, 32, 32, 3)\n",
    "    \n",
    "    resized_images = np.array([image[4:28, 4:28] for image in images])\n",
    "    \n",
    "    return resized_images, labels\n",
    "\n",
    "def load_class_names(file_path):\n",
    "    with open(file_path, 'r') as file:\n",
    "        class_names = [line.strip() for line in file]\n",
    "    return class_names\n",
    "\n",
    "\n",
    "def plot_sample_image(images, labels, class_names, index=0):\n",
    "    # Select image and label at the given index\n",
    "    image = images[index]\n",
    "    label = labels[index]\n",
    "    class_name = class_names[label]\n",
    "\n",
    "    print(image.shape)\n",
    "    \n",
    "    # Plot the image\n",
    "    plt.imshow(image)\n",
    "    plt.title(f\"Label: {label} ({class_name})\")\n",
    "    plt.axis('off')\n",
    "    plt.show()\n",
    "\n",
    "# Usage:\n",
    "images, labels = load_cifar10_batch('../../Downloads/cifar10_data/cifar-10-batches-bin/data_batch_1.bin')\n",
    "class_names = load_class_names('../../Downloads/cifar10_data/cifar-10-batches-bin/batches.meta.txt')\n",
    "\n",
    "plot_sample_image(images, labels, class_names, index=5)"
   ]
  },
  {
   "cell_type": "markdown",
   "metadata": {},
   "source": [
    "# TEST SUR IMAGE"
   ]
  },
  {
   "cell_type": "code",
   "execution_count": null,
   "metadata": {},
   "outputs": [],
   "source": [
    "def process_tensor_data(tensor_name, raw_data):\n",
    "    cleaned_string = raw_data.replace('[', '').replace(']', '').replace('\\n', ' ')\n",
    "    float_list = [float(x) for x in cleaned_string.split()]\n",
    "    tensor_dict[tensor_name] = np.array(float_list)\n",
    "\n",
    "tensor_dict = {}\n",
    "\n",
    "with open('../../Downloads/CNN_coeff_3x3.txt', 'r') as file:\n",
    "    tensor_name = None\n",
    "    raw_data = ''\n",
    "    \n",
    "    for line in file:\n",
    "        if line.startswith('tensor_name:'):\n",
    "            if tensor_name:\n",
    "                process_tensor_data(tensor_name, raw_data)\n",
    "            tensor_name = line.split(':')[1].strip()\n",
    "            raw_data = ''\n",
    "        else:\n",
    "            raw_data += line.strip() + '\\n'\n",
    "    \n",
    "    if tensor_name:\n",
    "        process_tensor_data(tensor_name, raw_data)\n",
    "\n",
    "def reshape_array_parameters():\n",
    "    for tensor_name, parameter_array in tensor_dict.items():\n",
    "        if tensor_name == 'conv1/biases':\n",
    "            tensor_dict[tensor_name] = parameter_array.reshape(64,)\n",
    "        elif tensor_name == 'conv1/weights':\n",
    "            tensor_dict[tensor_name] = parameter_array.reshape(3, 3, 3, 64)\n",
    "        elif tensor_name == 'conv2/biases':\n",
    "            tensor_dict[tensor_name] = parameter_array.reshape(32,)\n",
    "        elif tensor_name == 'conv2/weights':\n",
    "            tensor_dict[tensor_name] = parameter_array.reshape(3, 3, 64, 32)\n",
    "        elif tensor_name == 'conv3/biases':\n",
    "            tensor_dict[tensor_name] = parameter_array.reshape(20,)\n",
    "        elif tensor_name == 'conv3/weights':\n",
    "            tensor_dict[tensor_name] = parameter_array.reshape(3, 3, 32, 20)\n",
    "        elif tensor_name == 'local3/biases':\n",
    "            tensor_dict[tensor_name] = parameter_array.reshape(10,)\n",
    "        elif tensor_name == 'local3/weights':\n",
    "            tensor_dict[tensor_name] = parameter_array.reshape(180, 10)\n",
    "\n",
    "reshape_array_parameters()"
   ]
  },
  {
   "cell_type": "code",
   "execution_count": 56,
   "metadata": {},
   "outputs": [
    {
     "data": {
      "text/plain": [
       "array([ 1.33150375, -0.05496363,  1.30825186,  2.52893686,  1.00788128,\n",
       "        2.28100443,  1.75292468,  1.02082717,  0.45848575,  0.17053629])"
      ]
     },
     "execution_count": 56,
     "metadata": {},
     "output_type": "execute_result"
    }
   ],
   "source": [
    "tensor_dict['local3/biases']"
   ]
  },
  {
   "cell_type": "code",
   "execution_count": 82,
   "metadata": {},
   "outputs": [
    {
     "name": "stdout",
     "output_type": "stream",
     "text": [
      "[2.83625288e-04 9.72199457e-01 2.40845732e-05 2.05424540e-04\n",
      " 4.46224817e-04 1.92343374e-04 6.26408278e-05 3.66050027e-03\n",
      " 1.45930786e-04 2.27797682e-02]\n",
      "1\n"
     ]
    },
    {
     "data": {
      "text/plain": [
       "'automobile'"
      ]
     },
     "execution_count": 82,
     "metadata": {},
     "output_type": "execute_result"
    }
   ],
   "source": [
    "input_image = images[5]\n",
    "input_image = normalize_image(input_image)\n",
    "k1 = tensor_dict['conv1/weights']\n",
    "biais1 = tensor_dict['conv1/biases']\n",
    "k2 = tensor_dict['conv2/weights']\n",
    "biais2 = tensor_dict['conv2/biases']\n",
    "k3 = tensor_dict['conv3/weights']\n",
    "biais3 = tensor_dict['conv3/biases']\n",
    "weights_fcp = tensor_dict['local3/weights']\n",
    "biais_fcp = tensor_dict['local3/biases']\n",
    "\n",
    "conv1 = convolution(input_image, k1, biais1)\n",
    "maxpool1 = MaxPool_v2(conv1)\n",
    "conv2 = convolution(maxpool1, k2, biais2)\n",
    "maxpool2 = MaxPool_v2(conv2)\n",
    "conv3 = convolution(maxpool2, k3, biais3)\n",
    "maxpool3 = MaxPool_v2(conv3)\n",
    "reshape = c_reshape(maxpool3)\n",
    "output = FCP(reshape, weights_fcp, biais_fcp)\n",
    "print(output)\n",
    "np.sum(output)\n",
    "index_max = np.argmax(output)\n",
    "print(index_max)\n",
    "class_names[index_max]"
   ]
  },
  {
   "cell_type": "code",
   "execution_count": 79,
   "metadata": {},
   "outputs": [
    {
     "data": {
      "text/plain": [
       "'frog'"
      ]
     },
     "execution_count": 79,
     "metadata": {},
     "output_type": "execute_result"
    }
   ],
   "source": [
    "class_names[6]"
   ]
  },
  {
   "cell_type": "markdown",
   "metadata": {},
   "source": [
    "# Modèle Complet de test"
   ]
  },
  {
   "cell_type": "code",
   "execution_count": null,
   "metadata": {},
   "outputs": [
    {
     "name": "stdout",
     "output_type": "stream",
     "text": [
      "[5.16191732e-02 7.45023220e-03 2.34179300e-04 1.33853087e-01\n",
      " 1.15099113e-04 5.57206988e-01 6.08066200e-03 1.36721093e-01\n",
      " 3.73450576e-02 6.93744283e-02]\n"
     ]
    },
    {
     "data": {
      "text/plain": [
       "1.0"
      ]
     },
     "execution_count": 39,
     "metadata": {},
     "output_type": "execute_result"
    }
   ],
   "source": [
    "input_image = np.random.rand(24, 24, 3)\n",
    "k1 = np.random.rand(3, 3, 3, 64)\n",
    "biais1 = np.random.rand(64)\n",
    "k2 = np.random.rand(3, 3, 64, 32)\n",
    "biais2 = np.random.rand(32)\n",
    "k3 = np.random.rand(3, 3, 32, 20)\n",
    "biais3 = np.random.rand(20)\n",
    "weights_fcp = np.random.rand(180, 10)\n",
    "biais_fcp = np.random.rand(10,)\n",
    "\n",
    "conv1 = convolution(input_image, k1, biais1)\n",
    "maxpool1 = MaxPool_v2(conv1)\n",
    "conv2 = convolution(maxpool1, k2, biais2)\n",
    "maxpool2 = MaxPool_v2(conv2)\n",
    "conv3 = convolution(maxpool2, k3, biais3)\n",
    "maxpool3 = MaxPool_v2(conv3)\n",
    "norm1=normalize(maxpool3)#je l'ai fait de manière un peu vener mais ça marche\n",
    "reshape = c_reshape(norm1)\n",
    "output = FCP(reshape, weights_fcp, biais_fcp)\n",
    "print(output)\n",
    "np.sum(output)\n",
    "# PROBLEME AVEC EXPONENTIELLE... peut etre qu'avec les parametres du profs + en normalisant comme on devra le faire on aura pas ces problemes mais je ne suis pas sur"
   ]
  },
  {
   "cell_type": "markdown",
   "metadata": {},
   "source": [
    "# Tests"
   ]
  },
  {
   "cell_type": "code",
   "execution_count": 40,
   "metadata": {},
   "outputs": [
    {
     "name": "stdout",
     "output_type": "stream",
     "text": [
      "Reshape  (180,)\n",
      "output  (10,)\n"
     ]
    },
    {
     "data": {
      "text/plain": [
       "array([2.20170380e-03, 4.67058942e-01, 7.38930578e-03, 1.28046624e-04,\n",
       "       1.95621841e-03, 6.18633527e-05, 4.32034240e-01, 6.14900538e-02,\n",
       "       2.69413156e-02, 7.38310749e-04])"
      ]
     },
     "execution_count": 40,
     "metadata": {},
     "output_type": "execute_result"
    }
   ],
   "source": [
    "input_image = np.random.rand(3, 3, 20)\n",
    "weights = np.random.rand(180, 10)\n",
    "biais1 = np.random.rand(10,)\n",
    "\n",
    "reshape = c_reshape(input_image)\n",
    "output = FCP(reshape, weights, biais1)\n",
    "print(\"Reshape \", reshape.shape)\n",
    "print(\"output \", output.shape)\n",
    "output"
   ]
  },
  {
   "cell_type": "code",
   "execution_count": 41,
   "metadata": {},
   "outputs": [],
   "source": [
    "\n",
    "matrice = np.random.randint(0, 256, size=(24, 24, 3))\n",
    "\n",
    "R = matrice[:, :, 0]\n",
    "G = matrice[:, :, 1]\n",
    "B = matrice[:, :, 2]\n",
    "\n",
    "# print(\"Canal Rouge (R):\")\n",
    "# print(R)\n",
    "# print(\"\\nCanal Vert (G):\")\n",
    "# print(G)\n",
    "# print(\"\\nCanal Bleu (B):\")\n",
    "# print(B)\n"
   ]
  },
  {
   "cell_type": "code",
   "execution_count": 42,
   "metadata": {},
   "outputs": [
    {
     "name": "stdout",
     "output_type": "stream",
     "text": [
      "output height: 11, output width: 11\n"
     ]
    }
   ],
   "source": [
    "m2=MaxPool(matrice)\n",
    "R2 = m2[:, :, 0]\n",
    "G2 = m2[:, :, 1]\n",
    "B2 = m2[:, :, 2]\n",
    "\n",
    "# print(\"Canal Rouge (R):\")\n",
    "# print(R2)\n",
    "# print(\"\\nCanal Vert (G):\")\n",
    "# print(G2)\n",
    "# print(\"\\nCanal Bleu (B):\")\n",
    "# print(B2)"
   ]
  },
  {
   "cell_type": "code",
   "execution_count": 43,
   "metadata": {},
   "outputs": [
    {
     "name": "stdout",
     "output_type": "stream",
     "text": [
      "Convolution 1  (24, 24, 64)\n",
      "Maxpool 1  (12, 12, 64)\n"
     ]
    }
   ],
   "source": [
    "input_image = np.random.rand(24, 24, 3)\n",
    "k1 = np.random.rand(64, 3, 3, 3)  # 64 filtres de 3x3x3\n",
    "biais1 = np.random.rand(64)\n",
    "\n",
    "conv1_output = convolution(input_image, k1, biais1)\n",
    "maxpool_output = MaxPool_v2(conv1_output)\n",
    "print(\"Convolution 1 \", conv1_output.shape)  # (24, 24, 64)\n",
    "print(\"Maxpool 1 \", maxpool_output.shape)  # (3, 3, 20)"
   ]
  }
 ],
 "metadata": {
  "kernelspec": {
   "display_name": "polito",
   "language": "python",
   "name": "python3"
  },
  "language_info": {
   "codemirror_mode": {
    "name": "ipython",
    "version": 3
   },
   "file_extension": ".py",
   "mimetype": "text/x-python",
   "name": "python",
   "nbconvert_exporter": "python",
   "pygments_lexer": "ipython3",
   "version": "3.9.19"
  }
 },
 "nbformat": 4,
 "nbformat_minor": 2
}
