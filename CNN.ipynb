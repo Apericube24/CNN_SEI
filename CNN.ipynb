{
 "cells": [
  {
   "cell_type": "code",
   "execution_count": 1,
   "metadata": {},
   "outputs": [],
   "source": [
    "import numpy as np\n",
    "import matplotlib.pyplot as plt"
   ]
  },
  {
   "cell_type": "code",
   "execution_count": 37,
   "metadata": {},
   "outputs": [],
   "source": [
    "def ReLu(x):\n",
    "    # if (x < 0):\n",
    "    #     return 0\n",
    "    # return x\n",
    "    return np.maximum(0,x)\n",
    "\n",
    "def softmax(x):\n",
    "    sum = 0\n",
    "    for i in range(len(x)):\n",
    "        sum += np.exp(x[i])\n",
    "    return np.exp(x) / sum\n",
    "\n",
    "\n",
    "# def Max3x3(M): // a adapter car pour le moment j'utilise  np.max ca fait le taff\n",
    "#     max = M[0][0]\n",
    "#     for i in range(3):\n",
    "#         for j in range(3):\n",
    "#             if M[i][j] > max:\n",
    "#                 max = M[i][j]\n",
    "#     return max\n",
    "\n",
    "def MaxPool(M):\n",
    "    y,x,num_channels = M.shape\n",
    "    i = 0\n",
    "    j = 0\n",
    "    output_height = (y - 3) // 2 + 1\n",
    "    output_width = (x - 3) // 2 + 1\n",
    "    output = np.zeros((output_height, output_width, num_channels))\n",
    "\n",
    "    for c in range(num_channels):\n",
    "        for i in range(0, output_height):\n",
    "            for j in range(0, output_width):\n",
    "                start_i, start_j = i * 2, j * 2\n",
    "                region = M[start_i:start_i + 3, start_j:start_j + 3, c] #j'ai enlever output x et y car pas besoin et re for pour eviter de remettre à 0\n",
    "                output[i, j, c] = np.max(region)\n",
    " \n",
    "    return output\n",
    "\n",
    "def convolution(image, Ks, biais):\n",
    "    image_height, image_width, image_channels = image.shape\n",
    "    num_filters, K_height, K_width, _ = Ks.shape\n",
    "    output_height = image_height\n",
    "    output_width = image_width\n",
    "    output = np.zeros((output_height, output_width, num_filters))\n",
    "    padded_image = np.pad(image, ((2, 2), (2, 2), (0, 0)), mode='constant') #j'ai vu qu'il fallait faire du padding pour conserver les dimensions de notre frame 3D \n",
    "   \n",
    "    for f in range(num_filters):\n",
    "        conv_sum = np.zeros((output_height, output_width))\n",
    "        for c in range(image_channels):  \n",
    "            for i in range(output_height):\n",
    "                for j in range(output_width):\n",
    "                    region = padded_image[i:i+K_height, j:j+K_width, c]\n",
    "                    conv_sum[i, j] += np.sum(region * Ks[f, :, :, c])\n",
    "        output[:, :, f] = ReLu(conv_sum + biais[f])\n",
    "   \n",
    "    return output\n",
    "\n",
    "def reshape(M):\n",
    "    height, width, channels = M.shape\n",
    "    output = M\n",
    "    return output.reshape(height*width*channels) # On garde comme ça pour l'instant mais à changer pour le matériel\n",
    "\n",
    "def FCP(M, weights, bias): # Fully Connected Perceptron\n",
    "    '''\n",
    "    M : (180, 1)\n",
    "    weights : (180, 10)\n",
    "    bias : (10, 1)\n",
    "    output : (10, 1)\n",
    "    '''\n",
    "    weights = weights.T\n",
    "    output = softmax(weights.dot(M) + bias)\n",
    "    return output"
   ]
  },
  {
   "cell_type": "code",
   "execution_count": 39,
   "metadata": {},
   "outputs": [
    {
     "name": "stdout",
     "output_type": "stream",
     "text": [
      "Convolution 1  (6, 6, 20)\n",
      "Maxpool 1  (2, 2, 20)\n"
     ]
    }
   ],
   "source": [
    "input_image = np.random.rand(6, 6, 32)\n",
    "k1 = np.random.rand(20, 3, 3, 32)  # 64 filtres de 3x3x3\n",
    "biais1 = np.random.rand(20)\n",
    "\n",
    "conv1_output = convolution(input_image, k1, biais1)\n",
    "maxpool_output = MaxPool(conv1_output)\n",
    "print(\"Convolution 1 \", conv1_output.shape)  # (6, 6, 20)\n",
    "print(\"Maxpool 1 \", maxpool_output.shape)  # (3, 3, 20)"
   ]
  },
  {
   "cell_type": "code",
   "execution_count": null,
   "metadata": {},
   "outputs": [],
   "source": [
    "\n",
    "matrice = np.random.randint(0, 256, size=(24, 24, 3))\n",
    "\n",
    "R = matrice[:, :, 0]\n",
    "G = matrice[:, :, 1]\n",
    "B = matrice[:, :, 2]\n",
    "\n",
    "# print(\"Canal Rouge (R):\")\n",
    "# print(R)\n",
    "# print(\"\\nCanal Vert (G):\")\n",
    "# print(G)\n",
    "# print(\"\\nCanal Bleu (B):\")\n",
    "# print(B)\n"
   ]
  },
  {
   "cell_type": "code",
   "execution_count": 8,
   "metadata": {},
   "outputs": [],
   "source": [
    "m2=MaxPool(matrice)\n",
    "R2 = m2[:, :, 0]\n",
    "G2 = m2[:, :, 1]\n",
    "B2 = m2[:, :, 2]\n",
    "\n",
    "# print(\"Canal Rouge (R):\")\n",
    "# print(R2)\n",
    "# print(\"\\nCanal Vert (G):\")\n",
    "# print(G2)\n",
    "# print(\"\\nCanal Bleu (B):\")\n",
    "# print(B2)"
   ]
  },
  {
   "cell_type": "code",
   "execution_count": 6,
   "metadata": {},
   "outputs": [
    {
     "name": "stdout",
     "output_type": "stream",
     "text": [
      "Convolution 1  (24, 24, 64)\n"
     ]
    }
   ],
   "source": [
    "input_image = np.random.rand(24, 24, 3)\n",
    "k1 = np.random.rand(64, 3, 3, 3)  # 64 filtres de 3x3x3\n",
    "biais1 = np.random.rand(64)\n",
    "\n",
    "conv1_output = convolution(input_image, k1, biais1)\n",
    "print(\"Convolution 1 \", conv1_output.shape)  # (24, 24, 64)\n"
   ]
  },
  {
   "cell_type": "code",
   "execution_count": null,
   "metadata": {},
   "outputs": [],
   "source": []
  }
 ],
 "metadata": {
  "kernelspec": {
   "display_name": "pip",
   "language": "python",
   "name": "python3"
  },
  "language_info": {
   "codemirror_mode": {
    "name": "ipython",
    "version": 3
   },
   "file_extension": ".py",
   "mimetype": "text/x-python",
   "name": "python",
   "nbconvert_exporter": "python",
   "pygments_lexer": "ipython3",
   "version": "3.10.10"
  }
 },
 "nbformat": 4,
 "nbformat_minor": 2
}
