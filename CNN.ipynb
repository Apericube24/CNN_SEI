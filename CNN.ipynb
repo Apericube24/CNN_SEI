{
 "cells": [
  {
   "cell_type": "code",
   "execution_count": 1,
   "metadata": {},
   "outputs": [],
   "source": [
    "import numpy as np"
   ]
  },
  {
   "cell_type": "code",
   "execution_count": null,
   "metadata": {},
   "outputs": [],
   "source": [
    "def ReLu(x):\n",
    "    if (x < 0):\n",
    "        return 0\n",
    "    return x\n",
    "\n",
    "def softmax(x):\n",
    "    sum = 0\n",
    "    for i in range(len(x)):\n",
    "        sum += np.exp(x[i])\n",
    "    return np.exp(x) / sum\n",
    "\n",
    "def Max3x3(M):\n",
    "    max = M[0][0]\n",
    "    for i in range(3):\n",
    "        for j in range(3):\n",
    "            if M[i][j] > max:\n",
    "                max = M[i][j]\n",
    "    return max\n",
    "\n",
    "def MaxPool(M):\n",
    "    x = len(M[0])\n",
    "    y = len(M)\n",
    "    i = 0\n",
    "    j = 0\n",
    "    output_x = 0\n",
    "    output_y = 0\n",
    "    output_height = (y - 3) // 2 + 1\n",
    "    output_width = (x - 3) // 2 + 1\n",
    "    output = np.zeros((output_height, output_width))\n",
    "    while i <= (y - 3):\n",
    "        j = 0\n",
    "        output_x = 0\n",
    "        while j <= (x - 3):\n",
    "            print(f'i = {i}')\n",
    "            print(f'j = {j}')\n",
    "            print(f'output_x = {output_x}')\n",
    "            print(f'output_y = {output_y}')\n",
    "            output[output_y][output_x] = Max3x3(M[i:i+3, j:j+3])\n",
    "            j += 2\n",
    "            output_x += 1\n",
    "        i += 2\n",
    "        output_y += 1\n",
    "    return output\n",
    "\n",
    "def reshape(M):\n",
    "    output = np.array([])"
   ]
  },
  {
   "cell_type": "code",
   "execution_count": 147,
   "metadata": {},
   "outputs": [],
   "source": [
    "a = np.array([\n",
    "    [1, 2, 3],\n",
    "    [4, 5, 6],\n",
    "    [7, 8, 9]\n",
    "])"
   ]
  },
  {
   "cell_type": "code",
   "execution_count": 148,
   "metadata": {},
   "outputs": [
    {
     "data": {
      "text/plain": [
       "array([[1, 2, 3],\n",
       "       [4, 5, 6],\n",
       "       [7, 8, 9]])"
      ]
     },
     "execution_count": 148,
     "metadata": {},
     "output_type": "execute_result"
    }
   ],
   "source": [
    "reshape(a)"
   ]
  },
  {
   "cell_type": "code",
   "execution_count": null,
   "metadata": {},
   "outputs": [],
   "source": []
  }
 ],
 "metadata": {
  "kernelspec": {
   "display_name": "pip",
   "language": "python",
   "name": "python3"
  },
  "language_info": {
   "codemirror_mode": {
    "name": "ipython",
    "version": 3
   },
   "file_extension": ".py",
   "mimetype": "text/x-python",
   "name": "python",
   "nbconvert_exporter": "python",
   "pygments_lexer": "ipython3",
   "version": "3.10.10"
  }
 },
 "nbformat": 4,
 "nbformat_minor": 2
}
