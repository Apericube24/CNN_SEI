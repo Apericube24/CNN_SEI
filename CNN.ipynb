{
 "cells": [
  {
   "cell_type": "code",
   "execution_count": 37,
   "metadata": {},
   "outputs": [],
   "source": [
    "import numpy as np"
   ]
  },
  {
   "cell_type": "markdown",
   "metadata": {},
   "source": [
    "# Fonctions"
   ]
  },
  {
   "cell_type": "code",
   "execution_count": 38,
   "metadata": {},
   "outputs": [],
   "source": [
    "def ReLu(x):\n",
    "    # if (x < 0):\n",
    "    #     return 0\n",
    "    # return x\n",
    "    return np.maximum(0,x)\n",
    "\n",
    "def softmax(x):\n",
    "    sum = 0\n",
    "    for i in range(len(x)):\n",
    "        sum += np.exp(x[i])\n",
    "    return np.exp(x) / sum\n",
    "\n",
    "\n",
    "# def Max3x3(M): // a adapter car pour le moment j'utilise  np.max ca fait le taff\n",
    "#     max = M[0][0]\n",
    "#     for i in range(3):\n",
    "#         for j in range(3):\n",
    "#             if M[i][j] > max:\n",
    "#                 max = M[i][j]\n",
    "#     return max\n",
    "\n",
    "def MaxPool(M):\n",
    "    y,x,num_channels = M.shape\n",
    "    i = 0\n",
    "    j = 0\n",
    "    output_height = (y - 3) // 2 + 1\n",
    "    output_width = (x - 3) // 2 + 1\n",
    "    print(f\"output height: {output_height}, output width: {output_width}\")\n",
    "    output = np.zeros((output_height, output_width, num_channels))\n",
    "\n",
    "    for c in range(num_channels):\n",
    "        for i in range(0, output_height):\n",
    "            for j in range(0, output_width):\n",
    "                start_i, start_j = i * 2, j * 2\n",
    "                region = M[start_i:start_i + 3, start_j:start_j + 3, c] #j'ai enlever output x et y car pas besoin et re for pour eviter de remettre à 0\n",
    "                output[i, j, c] = np.max(region)\n",
    "    return output\n",
    "\n",
    "def MaxPool_v2(M):\n",
    "    y,x,num_channels = M.shape\n",
    "    i = 0\n",
    "    j = 0\n",
    "    output_height = y // 2\n",
    "    output_width = x // 2\n",
    "    output = np.zeros((output_height, output_width, num_channels))\n",
    "    for c in range(num_channels):\n",
    "        for i in range(0, output_height):\n",
    "            for j in range(0, output_width):\n",
    "                start_i, start_j = i * 2, j * 2\n",
    "                if (start_i + 3 > y):\n",
    "                    if(start_j + 3 > x):\n",
    "                        region = M[start_i:y, start_j:start_j + 3, c]\n",
    "                    else:\n",
    "                        region = M[start_i:y, start_j:x, c]\n",
    "                elif (start_j + 3 > x):\n",
    "                    region = M[start_i:start_i + 3, start_j:x, c]\n",
    "                else:\n",
    "                    region = M[start_i:start_i + 3, start_j:start_j + 3, c] #j'ai enlever output x et y car pas besoin et re for pour eviter de remettre à 0\n",
    "                output[i, j, c] = np.max(region)\n",
    "    return output\n",
    "\n",
    "def convolution(image, Ks, biais):\n",
    "    image_height, image_width, image_channels = image.shape\n",
    "    num_filters, K_height, K_width, _ = Ks.shape\n",
    "    output_height = image_height\n",
    "    output_width = image_width\n",
    "    output = np.zeros((output_height, output_width, num_filters))\n",
    "    padded_image = np.pad(image, ((2, 2), (2, 2), (0, 0)), mode='constant') #j'ai vu qu'il fallait faire du padding pour conserver les dimensions de notre frame 3D \n",
    "   \n",
    "    for f in range(num_filters):\n",
    "        conv_sum = np.zeros((output_height, output_width))\n",
    "        for c in range(image_channels):  \n",
    "            for i in range(output_height):\n",
    "                for j in range(output_width):\n",
    "                    region = padded_image[i:i+K_height, j:j+K_width, c]\n",
    "                    conv_sum[i, j] += np.sum(region * Ks[f, :, :, c])\n",
    "        output[:, :, f] = ReLu(conv_sum + biais[f])\n",
    "   \n",
    "    return output\n",
    "\n",
    "def c_reshape(M):\n",
    "    height, width, channels = M.shape\n",
    "    output = M\n",
    "    return output.reshape(height*width*channels) # On garde comme ça pour l'instant mais à changer pour le matériel\n",
    "\n",
    "def FCP(M, weights, bias): # Fully Connected Perceptron\n",
    "    '''\n",
    "    M : (180,)\n",
    "    weights : (180, 10)\n",
    "    bias : (10,)\n",
    "    output : (10,)\n",
    "    '''\n",
    "    M = M.T\n",
    "    output = softmax(M.dot(weights) + bias)\n",
    "    return output\n",
    "\n",
    "def normalize(M):\n",
    "    min_val = np.min(M)\n",
    "    max_val = np.max(M)\n",
    "    \n",
    "    M_normalized = (M - min_val) / (max_val - min_val)\n",
    "    \n",
    "    return M_normalized"
   ]
  },
  {
   "cell_type": "markdown",
   "metadata": {},
   "source": [
    "# Modèle Complet"
   ]
  },
  {
   "cell_type": "code",
   "execution_count": 44,
   "metadata": {},
   "outputs": [
    {
     "name": "stdout",
     "output_type": "stream",
     "text": [
      "[3.71287917e-03 4.17503079e-02 6.29626057e-02 1.09050843e-02\n",
      " 1.33575475e-03 9.22803703e-03 2.07940351e-04 8.87993643e-02\n",
      " 2.32951066e-01 5.48146960e-01]\n"
     ]
    },
    {
     "data": {
      "text/plain": [
       "1.0"
      ]
     },
     "execution_count": 44,
     "metadata": {},
     "output_type": "execute_result"
    }
   ],
   "source": [
    "input_image = np.random.rand(24, 24, 3)\n",
    "k1 = np.random.rand(64, 3, 3, 3)\n",
    "biais1 = np.random.rand(64)\n",
    "k2 = np.random.rand(32, 3, 3, 64)\n",
    "biais2 = np.random.rand(32)\n",
    "k3 = np.random.rand(20, 3, 3, 32)\n",
    "biais3 = np.random.rand(20)\n",
    "weights_fcp = np.random.rand(180, 10)\n",
    "biais_fcp = np.random.rand(10,)\n",
    "\n",
    "conv1 = convolution(input_image, k1, biais1)\n",
    "maxpool1 = MaxPool_v2(conv1)\n",
    "conv2 = convolution(maxpool1, k2, biais2)\n",
    "maxpool2 = MaxPool_v2(conv2)\n",
    "conv3 = convolution(maxpool2, k3, biais3)\n",
    "maxpool3 = MaxPool_v2(conv3)\n",
    "norm1=normalize(maxpool3)#je l'ai fait de manière un peu vener mais ça marche\n",
    "reshape = c_reshape(norm1)\n",
    "output = FCP(reshape, weights_fcp, biais_fcp)\n",
    "print(output)\n",
    "np.sum(output)\n",
    "# PROBLEME AVEC EXPONENTIELLE... peut etre qu'avec les parametres du profs + en normalisant comme on devra le faire on aura pas ces problemes mais je ne suis pas sur"
   ]
  },
  {
   "cell_type": "markdown",
   "metadata": {},
   "source": [
    "# Tests"
   ]
  },
  {
   "cell_type": "code",
   "execution_count": 40,
   "metadata": {},
   "outputs": [
    {
     "name": "stdout",
     "output_type": "stream",
     "text": [
      "Reshape  (180,)\n",
      "output  (10,)\n"
     ]
    },
    {
     "data": {
      "text/plain": [
       "array([2.20170380e-03, 4.67058942e-01, 7.38930578e-03, 1.28046624e-04,\n",
       "       1.95621841e-03, 6.18633527e-05, 4.32034240e-01, 6.14900538e-02,\n",
       "       2.69413156e-02, 7.38310749e-04])"
      ]
     },
     "execution_count": 40,
     "metadata": {},
     "output_type": "execute_result"
    }
   ],
   "source": [
    "input_image = np.random.rand(3, 3, 20)\n",
    "weights = np.random.rand(180, 10)\n",
    "biais1 = np.random.rand(10,)\n",
    "\n",
    "reshape = c_reshape(input_image)\n",
    "output = FCP(reshape, weights, biais1)\n",
    "print(\"Reshape \", reshape.shape)\n",
    "print(\"output \", output.shape)\n",
    "output"
   ]
  },
  {
   "cell_type": "code",
   "execution_count": 41,
   "metadata": {},
   "outputs": [],
   "source": [
    "\n",
    "matrice = np.random.randint(0, 256, size=(24, 24, 3))\n",
    "\n",
    "R = matrice[:, :, 0]\n",
    "G = matrice[:, :, 1]\n",
    "B = matrice[:, :, 2]\n",
    "\n",
    "# print(\"Canal Rouge (R):\")\n",
    "# print(R)\n",
    "# print(\"\\nCanal Vert (G):\")\n",
    "# print(G)\n",
    "# print(\"\\nCanal Bleu (B):\")\n",
    "# print(B)\n"
   ]
  },
  {
   "cell_type": "code",
   "execution_count": 42,
   "metadata": {},
   "outputs": [
    {
     "name": "stdout",
     "output_type": "stream",
     "text": [
      "output height: 11, output width: 11\n"
     ]
    }
   ],
   "source": [
    "m2=MaxPool(matrice)\n",
    "R2 = m2[:, :, 0]\n",
    "G2 = m2[:, :, 1]\n",
    "B2 = m2[:, :, 2]\n",
    "\n",
    "# print(\"Canal Rouge (R):\")\n",
    "# print(R2)\n",
    "# print(\"\\nCanal Vert (G):\")\n",
    "# print(G2)\n",
    "# print(\"\\nCanal Bleu (B):\")\n",
    "# print(B2)"
   ]
  },
  {
   "cell_type": "code",
   "execution_count": 43,
   "metadata": {},
   "outputs": [
    {
     "name": "stdout",
     "output_type": "stream",
     "text": [
      "Convolution 1  (24, 24, 64)\n",
      "Maxpool 1  (12, 12, 64)\n"
     ]
    }
   ],
   "source": [
    "input_image = np.random.rand(24, 24, 3)\n",
    "k1 = np.random.rand(64, 3, 3, 3)  # 64 filtres de 3x3x3\n",
    "biais1 = np.random.rand(64)\n",
    "\n",
    "conv1_output = convolution(input_image, k1, biais1)\n",
    "maxpool_output = MaxPool_v2(conv1_output)\n",
    "print(\"Convolution 1 \", conv1_output.shape)  # (24, 24, 64)\n",
    "print(\"Maxpool 1 \", maxpool_output.shape)  # (3, 3, 20)"
   ]
  }
 ],
 "metadata": {
  "kernelspec": {
   "display_name": "Python 3",
   "language": "python",
   "name": "python3"
  },
  "language_info": {
   "codemirror_mode": {
    "name": "ipython",
    "version": 3
   },
   "file_extension": ".py",
   "mimetype": "text/x-python",
   "name": "python",
   "nbconvert_exporter": "python",
   "pygments_lexer": "ipython3",
   "version": "3.12.3"
  }
 },
 "nbformat": 4,
 "nbformat_minor": 2
}
